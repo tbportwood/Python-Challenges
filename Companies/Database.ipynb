{
 "cells": [
  {
   "cell_type": "code",
   "execution_count": 17,
   "metadata": {},
   "outputs": [],
   "source": [
    "import sqlite3\n",
    "companies = []\n",
    "\n",
    "def create_company_table():\n",
    "    connection = sqlite3.connect('data.db')\n",
    "    cursor = connection.cursor()\n",
    "    cursor.execute('CREATE TABLE IF NOT EXISTS companies(id integer primary key, name text, location text, industry text, CEO text)')\n",
    "    connection.commit()\n",
    "    connection.close()\n",
    "\n",
    "def add_company(new_name, new_location, new_industry, new_CEO):\n",
    "    connection = sqlite3.connect('data.db')\n",
    "    cursor = connection.cursor()\n",
    "    cursor.execute(f'INSERT INTO companies VALUES(\"{name}\", \"{location}\", \"{industry}\", \"{CEO}\")')\n",
    "    connection.commit()\n",
    "    connection.close()\n",
    "        \n",
    "\n",
    "def update_company(name, location, industry, CEO):\n",
    "    index = 0\n",
    "    for company in companies:\n",
    "        if company[\"Name\"] == name:\n",
    "            company[\"Location\"] = location\n",
    "            company[\"Industry\"] = industry\n",
    "            company[\"CEO\"] = CEO\n",
    "            break\n",
    "    print(\"This company does not exist. Would you like to add a new company?\")\n",
    "\n",
    "def company_exists(name):\n",
    "    value = False\n",
    "    if(len(read_company(name)) > 0):\n",
    "        value = True\n",
    "    return value\n",
    "        \n",
    "def remove_company(name):\n",
    "    index = 0\n",
    "    for index in range(0, len(companies) - 1):\n",
    "        if companies[index][\"Name\"] == name:\n",
    "            companies.remove([index])\n",
    "            break\n",
    "        else:\n",
    "            index += 1\n",
    "            \n",
    "def list_companies():\n",
    "    for company in companies:\n",
    "        print(company[\"Name\"])\n",
    "\n",
    "def read_company(new_name):\n",
    "    return [company for company in companies if company[\"Name\"] == new_name]\n",
    "\n",
    "def print_details(new_name):\n",
    "    temp_comp = read_company(new_name)\n",
    "    print(\"Company Name: \" + temp_comp[0][\"Name\"])\n",
    "    print(\"Company Location: \" + temp_comp[0][\"Location\"])\n",
    "    print(\"Company Industry: \" + temp_comp[0][\"Industry\"])\n",
    "    print(\"Company CEO: \" + temp_comp[0][\"CEO\"])\n",
    "    \n",
    "def prompt_add_company():\n",
    "    name = input(\"Company Name\")\n",
    "    if company_exists(name):\n",
    "        print(\"Company already exists. Enter a new company!\")\n",
    "        return\n",
    "    loc = input(\"Company Location\")\n",
    "    industry = input(\"Company Industry\")\n",
    "    CEO = input(\"Company CEO\")\n",
    "    add_company(name, loc, industry, CEO)\n",
    "\n",
    "def prompt_delete_company():\n",
    "    name = input(\"Company Name: \")\n",
    "    global companies\n",
    "    companies = [company for company in companies if company[\"Name\"] != name]"
   ]
  },
  {
   "cell_type": "code",
   "execution_count": null,
   "metadata": {},
   "outputs": [],
   "source": []
  },
  {
   "cell_type": "code",
   "execution_count": 18,
   "metadata": {},
   "outputs": [],
   "source": [
    "add_company(\"Yardi\", \"Roswell\", \"Software\", \"Anant\")\n",
    "add_company(\"UPS\", \"Atlanta\", \"Shipping\", \"Unknown\")\n",
    "add_company(\"HAMC\", \"Phoenix\", \"Management\", \"Gerald Minott\")"
   ]
  },
  {
   "cell_type": "code",
   "execution_count": 19,
   "metadata": {},
   "outputs": [
    {
     "name": "stdin",
     "output_type": "stream",
     "text": [
      "Company Name:  Yardi\n"
     ]
    }
   ],
   "source": [
    "prompt_delete_company()"
   ]
  },
  {
   "cell_type": "code",
   "execution_count": 20,
   "metadata": {},
   "outputs": [
    {
     "data": {
      "text/plain": [
       "[{'Name': 'UPS',\n",
       "  'Location': 'Atlanta',\n",
       "  'Industry': 'Shipping',\n",
       "  'CEO': 'Unknown'},\n",
       " {'Name': 'HAMC',\n",
       "  'Location': 'Phoenix',\n",
       "  'Industry': 'Management',\n",
       "  'CEO': 'Gerald Minott'}]"
      ]
     },
     "execution_count": 20,
     "metadata": {},
     "output_type": "execute_result"
    }
   ],
   "source": [
    "companies"
   ]
  },
  {
   "cell_type": "code",
   "execution_count": null,
   "metadata": {},
   "outputs": [],
   "source": []
  }
 ],
 "metadata": {
  "kernelspec": {
   "display_name": "Python 3",
   "language": "python",
   "name": "python3"
  },
  "language_info": {
   "codemirror_mode": {
    "name": "ipython",
    "version": 3
   },
   "file_extension": ".py",
   "mimetype": "text/x-python",
   "name": "python",
   "nbconvert_exporter": "python",
   "pygments_lexer": "ipython3",
   "version": "3.7.3"
  }
 },
 "nbformat": 4,
 "nbformat_minor": 4
}
